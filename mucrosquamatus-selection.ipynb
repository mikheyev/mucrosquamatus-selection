{
 "cells": [
  {
   "cell_type": "markdown",
   "metadata": {},
   "source": [
    "\n",
    "## Load required libraries and open SQL database\n",
    "\n"
   ]
  },
  {
   "cell_type": "code",
   "execution_count": null,
   "metadata": {
    "Rmd_chunk_options": "loadLibraries",
    "autoscroll": false,
    "collapsed": true
   },
   "outputs": [],
   "source": [
    "library(RSQLite)\n",
    "library(ggplot2)\n",
    "library(gridExtra)\n",
    "library(grid)\n",
    "library(reshape2)\n",
    "library(boot)\n",
    "library(pgirmess)\n",
    "library(MASS)\n",
    "library(plyr)\n",
    "\n",
    "db <- dbConnect(SQLite(), dbname=\"pmuc.db\")"
   ]
  },
  {
   "cell_type": "code",
   "execution_count": null,
   "metadata": {
    "autoscroll": false,
    "collapsed": true
   },
   "outputs": [],
   "source": [
    "fancy_scientific <- function(l) {\n",
    "  #http://stackoverflow.com/questions/11610377/how-do-i-change-the-formatting-of-numbers-on-an-axis-with-ggplot\n",
    "     # turn in to character string in scientific notation\n",
    "     l <- format(l, scientific = TRUE)\n",
    "     # quote the part before the exponent to keep all the digits\n",
    "     l <- gsub(\"^(.*)e\", \"'\\\\1'e\", l)\n",
    "     #remove +\n",
    "     l <- gsub(\"e\\\\+\",\"e\",l)\n",
    "     # turn the 'e+' into plotmath format\n",
    "     l <- gsub(\"e\", \"%*%10^\", l)\n",
    "     #get rid of extra 1s\n",
    "     l <- gsub(\"\\\\'1[\\\\.0]*\\\\'\\\\%\\\\*\\\\%\", \"\", l)\n",
    "     # return this as an expression\n",
    "     parse(text=l)\n",
    "}\n",
    "\n",
    "# for p-values\n",
    "fancy_scientific2 <- function(l) {\n",
    "     l <- format(l, scientific = TRUE, digits = 2)\n",
    "     l <- gsub(\"^(.*)e\", \"'\\\\1'e\", l)\n",
    "     l <- gsub(\"e\\\\+\",\"e\",l)\n",
    "     l <- gsub(\"e\", \"%*%10^\", l)\n",
    "     l <- gsub(\"\\\\'1[\\\\.0]*\\\\'\\\\%\\\\*\\\\%\", \"\", l)\n",
    "}"
   ]
  },
  {
   "cell_type": "markdown",
   "metadata": {},
   "source": [
    "\n",
    "## Quality control\n",
    "ERCC92 was added to the RNA-seq libraries for quality checking\n"
   ]
  },
  {
   "cell_type": "code",
   "execution_count": null,
   "metadata": {
    "Rmd_chunk_options": "qc",
    "autoscroll": false,
    "collapsed": true
   },
   "outputs": [],
   "source": [
    "ercc <- dbGetQuery(db, 'SELECT * FROM rsem WHERE gene LIKE \"ERCC%\"')\n",
    "rownames(ercc) <- ercc$gene\n",
    "erccAdded <- dbGetQuery(db, 'SELECT individual, mix FROM factors')\n",
    "exfold <- dbGetQuery(db, 'SELECT * FROM ExFold')\n",
    "\n",
    "mix1 <- exfold[exfold$mix == 1,c(\"id\", \"attamoles_ul\")]\n",
    "mix2 <- exfold[exfold$mix == 2,c(\"id\", \"attamoles_ul\")]\n",
    "\n",
    "ercc[mix1$id,\"conc\"] <- mix1$attamoles_ul\n",
    "ercc[mix2$id,\"conc\"] <- mix2$attamoles_ul\n",
    "\n",
    "mix1 <- melt(ercc[,c(erccAdded[erccAdded$mix == 1, \"individual\"], \"gene\", \"conc\")], id.vars = c(\"conc\", \"gene\"))\n",
    "mix2 <- melt(ercc[,c(erccAdded[erccAdded$mix == 2, \"individual\"], \"gene\", \"conc\")], id.vars = c(\"conc\", \"gene\"))\n",
    "mix1$mix <- 1\n",
    "mix2$mix <- 2\n",
    "\n",
    "#ercc_melted <- melt(ercc[,-c(1,2)])\n",
    "#ercc <- data.frame(conc = rep(cont[,2],ncol(cont)-2), lib = cont_melted$variable, fpkm = cont_melted$value)\n",
    "fmt <- function(){\n",
    "    f <- function(x) as.character(round(x,2))\n",
    "    f\n",
    "}\n",
    "\n",
    "ggplot(subset(rbind(mix1,mix2),value>0),aes(conc, value, color=variable))+\n",
    "    geom_smooth(method=\"lm\",se=FALSE)+geom_point(size=3, alpha=.1)+scale_x_continuous(labels = fmt(),trans=\"log2\")+\n",
    "    scale_y_continuous(labels = fmt(),trans=\"log2\")+theme_bw()+\n",
    "    xlab(\"Spike-in concentration (attamol/ul)\")+ylab(\"Spike-in FPKM\")+facet_grid(mix~.)"
   ]
  },
  {
   "cell_type": "markdown",
   "metadata": {},
   "source": [
    "\n",
    "There is a linear relationship between spike-in controls and observed values, suggesting that the technical aspects of sequencing worked well.\n",
    "\n",
    "We also want to see how well _P. elegans_ was covered\n"
   ]
  },
  {
   "cell_type": "code",
   "execution_count": null,
   "metadata": {
    "Rmd_chunk_options": "sequecningCoverage",
    "autoscroll": false,
    "collapsed": true
   },
   "outputs": [],
   "source": [
    "a<-dbGetQuery(db, 'SELECT *  FROM pele_coverage')\n",
    "ggplot(dbGetQuery(db, 'SELECT *  FROM pele_coverage'), aes (coverage))+geom_density()+xlim(0,50)"
   ]
  },
  {
   "cell_type": "markdown",
   "metadata": {},
   "source": [
    "\n",
    "Overall, the coverage is about as expected ~20x.\n",
    "\n",
    "## Main analysis\n",
    "\n",
    "### Load data from SQL database\n",
    "This step loads fpkm data from RSEM, as well as estimates of selection parameters from MKTest and SnIPRE.\n",
    "\n"
   ]
  },
  {
   "cell_type": "code",
   "execution_count": null,
   "metadata": {
    "Rmd_chunk_options": "loadSQL",
    "autoscroll": false,
    "collapsed": true
   },
   "outputs": [],
   "source": [
    "fpkm <- dbGetQuery(db, 'SELECT * FROM rsem WHERE gene NOT LIKE \"ERCC%\"')\n",
    "rownames(fpkm) <- fpkm$gene\n",
    "fpkm <- fpkm[-1]\n",
    "snipre <- dbGetQuery(db, '\n",
    "SELECT rna2gene.gene, \"BSnIPRE.Rest\" AS Rest,\n",
    "\"BSnIPRE.theta\" AS theta, secreted.class AS type, coverage, SUM(cnv) AS cnv, description FROM snipre\n",
    "JOIN rna2gene\n",
    "ON rna = snipre.gene\n",
    "JOIN geneNames\n",
    "ON geneNames.name = rna2gene.gene\n",
    "LEFT OUTER JOIN secreted\n",
    "ON geneNames.name = secreted.gene\n",
    "JOIN pele_coverage\n",
    "ON geneNames.name = pele_coverage.gene\n",
    "LEFT OUTER JOIN cnvByGene\n",
    "ON geneNames.name = cnvByGene.gene\n",
    "GROUP BY geneNames.name')\n",
    "rownames(snipre) <- snipre$gene\n",
    "\n",
    "mktest <- dcast(dbGetQuery(db, 'SELECT * FROM mktest'), gene ~ parameter)\n",
    "\n",
    "snipre[mktest$gene,\"alpha\"] <- mktest$alpha\n",
    "snipre[mktest$gene,\"f\"] <- mktest$f\n",
    "snipre[mktest$gene,\"theta2\"] <- mktest$theta\n",
    "\n",
    "snipre$type[is.na(snipre$type)] <- \"housekeeping\"\n",
    "\n",
    "snipre$secreted <- \"yes\"\n",
    "snipre$secreted[snipre$type == \"housekeeping\"] <- \"no\"\n",
    "snipre$secreted <- factor(snipre$secreted)\n",
    "\n",
    "fpkmMeans <- data.frame(fpkm = rowMeans(fpkm))\n",
    "rownames(fpkmMeans) <- rownames(fpkm)\n",
    "\n",
    "\n",
    "snipre <- merge(snipre,fpkmMeans, by.x=0, by.y=0)\n",
    "snipre <- subset(snipre, fpkm>0 & coverage >=5 & coverage < 40)\n",
    "rownames(snipre) <- snipre$gene"
   ]
  },
  {
   "cell_type": "markdown",
   "metadata": {},
   "source": [
    "\n",
    "The last step removes any genes, which don't have any expression data, and also genes with too-low or supiciously high coverage.\n",
    "\n",
    "### Descrptive statistics\n",
    "\n"
   ]
  },
  {
   "cell_type": "code",
   "execution_count": null,
   "metadata": {
    "Rmd_chunk_options": "descriptive",
    "autoscroll": false,
    "collapsed": true
   },
   "outputs": [],
   "source": [
    "secreted <- dbGetQuery(db, 'SELECT gene, class FROM secreted')\n",
    "rownames(secreted) <- secreted$gene\n",
    "secreted$fpkm <- rowMeans(fpkm[rownames(secreted),])\n",
    "ggplot(secreted, aes(class, fpkm/sum(fpkm)))+geom_jitter(width=.5, alpha=0.6)+theme_bw()+theme(axis.text.x = element_text(angle = 45, hjust = 1))+scale_y_continuous(labels = scales::percent) + ylab(\"Portion of transcriptome\")+xlab(\"Protein class\")\n",
    "ggsave(\"venom composition.pdf\", width=4, height=3)"
   ]
  },
  {
   "cell_type": "markdown",
   "metadata": {},
   "source": [
    "\n",
    "### Testing main effects\n",
    "#### Theta\n",
    "\n",
    "Kini and Chan proposed that mutation rates are higher for venom genes. This would be equivalent to them having a higher theta = 4Neμ Since we expect the effective population size to be constant among genes, the differences would be due to mutation rates.\n",
    "\n"
   ]
  },
  {
   "cell_type": "code",
   "execution_count": null,
   "metadata": {
    "Rmd_chunk_options": "theta",
    "autoscroll": false,
    "collapsed": true
   },
   "outputs": [],
   "source": [
    "kruskal.test(theta ~ secreted, data = snipre) #snipre\n",
    "ggplot(snipre, aes(secreted, theta)) + geom_boxplot() + scale_y_sqrt()\n",
    "kruskal.test(theta2 ~ secreted, data = snipre) #mktest\n",
    "ggplot(snipre, aes(secreted, theta2)) + geom_boxplot() + scale_y_sqrt()"
   ]
  },
  {
   "cell_type": "markdown",
   "metadata": {},
   "source": [
    "#### 'Overkill hypothesis'\n",
    "Overkill hypothesis predicts that venoms are under relaxed selective constraint, modeled by f in MKTest and Rest in SnIPRE. In both cases larger values mean lower constraint.\n",
    "\n"
   ]
  },
  {
   "cell_type": "code",
   "execution_count": null,
   "metadata": {
    "Rmd_chunk_options": "overkill",
    "autoscroll": false,
    "collapsed": true
   },
   "outputs": [],
   "source": [
    "with(snipre, cor.test(f, Rest, method=\"s\"))\n",
    "(restKruskal <- kruskal.test(Rest ~ secreted, data = snipre)) #snipre\n",
    "restPlot <- ggplot(snipre, aes(secreted, Rest)) + geom_violin()+ stat_summary(fun.y = mean, geom = \"point\", color=\"red\", size=3) + theme_bw()+annotate(\"text\",x = 1.5, y = .1,  label = paste(\"p ==\", fancy_scientific2(restKruskal$p.value)), parse = TRUE) + annotate(\"text\", x=1, y=1.05, label = paste(\"n = \", nrow(subset(snipre, secreted == \"no\"))))+ annotate(\"text\", x=2, y=1.05, label = paste(\"n = \", nrow(subset(snipre, secreted == \"yes\"))))+ylab(\"Constraint effect\")+scale_y_continuous()+scale_x_discrete(labels = c(\"housekeeping\", \"venom\"))+theme(axis.title.x=element_blank()) + annotate(\"text\", x=.6, y=.85, label = \"C\", size = 12 )+ggtitle (\"Selective constraint (SnIPRE)\")\n",
    "(fKruskal <- kruskal.test(f ~ secreted, data = snipre)) #mktest\n",
    "fPlot <- ggplot(snipre, aes(secreted, f)) + geom_violin()+ stat_summary(fun.y = mean, geom = \"point\", color=\"red\", size=3)+theme_bw()+annotate(\"text\",x = 1.5, y = .8,  label = paste(\"p ==\", fancy_scientific2(fKruskal$p.value)), parse = TRUE) + annotate(\"text\", x=1, y=1.05, label = paste(\"n = \", nrow(subset(snipre, secreted == \"no\"))))+ annotate(\"text\", x=2, y=1.05, label = paste(\"n = \", nrow(subset(snipre, secreted == \"yes\"))))+ylab(expression(atop(\"Proportion of mutants not under\",paste(\"strong purifying selection \", (italic(f))))))+scale_y_continuous(breaks = c(0,.25,.5,.75,1))+scale_x_discrete(labels = c(\"housekeeping\", \"venom\"))+theme(axis.title.x=element_blank()) + annotate(\"text\", x=.6, y=1, label = \"B\", size = 12 )+ggtitle(\"Selective constraint (MKTest)\")"
   ]
  },
  {
   "cell_type": "markdown",
   "metadata": {},
   "source": [
    "\n",
    "Both software packages infer that secreted genes have lower selective constraint, overall.\n",
    "\n",
    "#### Adaptive hypothesis\n",
    "MKTest estimates alpha, which is the proportion of adaptive subsitutions.\n"
   ]
  },
  {
   "cell_type": "code",
   "execution_count": null,
   "metadata": {
    "Rmd_chunk_options": "adaptive",
    "autoscroll": false,
    "collapsed": true
   },
   "outputs": [],
   "source": [
    "(mk.kruskal <- kruskal.test(alpha ~ secreted, data = subset(snipre, alpha >= 0)))\n",
    "alphaPlot <- ggplot(subset(snipre, alpha >= 0), aes(secreted, alpha)) + geom_violin()+ stat_summary(fun.y = mean, geom = \"point\", color=\"red\", size=3)+theme_bw()+annotate(\"text\",x = 1.5, y = .8,  label = paste(\"p ==\", fancy_scientific2(mk.kruskal$p.value)), parse = TRUE) + annotate(\"text\", x=1, y=1.05, label = paste(\"n = \", nrow(subset(snipre, alpha >= 0 & secreted == \"no\"))))+ annotate(\"text\", x=2, y=1.05, label = paste(\"n = \", nrow(subset(snipre, alpha >= 0 & secreted == \"yes\"))))+ylab(expression(atop(\"Proportion of substitutions\", paste(\"fixed by natural selection \" (alpha)))))+scale_y_continuous(breaks = c(0,.25,.5,.75,1))+scale_x_discrete(labels = c(\"housekeeping\", \"venom\"))+theme(axis.title.x=element_blank()) + annotate(\"text\", x=.6, y=1, label = \"A\", size = 12 )+ggtitle(\"Adaptive evolution\")\n",
    "#pdf(\"plots/coefficients.pdf\", width=12, height=4 )\n",
    "grid.arrange(alphaPlot, fPlot, restPlot, nrow=1, bottom = textGrob(\"Protein type\"))\n",
    "#dev.off()"
   ]
  },
  {
   "cell_type": "markdown",
   "metadata": {},
   "source": [
    "\n",
    "#### Plot coefficients by protein class\n",
    "\n"
   ]
  },
  {
   "cell_type": "code",
   "execution_count": null,
   "metadata": {
    "Rmd_chunk_options": "alphaByType",
    "autoscroll": false,
    "collapsed": true
   },
   "outputs": [],
   "source": [
    "fpkmByType <- aggregate(snipre$fpkm, by=list(snipre$type), FUN = mean)\n",
    "colnames(fpkmByType) <- c(\"type\", \"fpkm\")\n",
    "fpkmByType$venom <- 1\n",
    "fpkmByType$venom[fpkmByType$type == \"housekeeping\"] <- 0\n",
    "fpkmByType$order <- fpkmByType$venom*fpkmByType$fpkm\n",
    "snipre$type <-  factor(snipre$type, levels = fpkmByType[order(fpkmByType[,\"order\"]),]$type)\n",
    "\n",
    "keep <- levels(snipre$type)[with(subset(snipre, alpha >=0), table(type)) > 1  ]\n",
    "keep2 <- levels(snipre$type)[table(snipre$type) > 1  ] # for f\n",
    "\n",
    "p1 <- ggplot(snipre[snipre$type %in% keep, ], aes(type, fpkm, color = secreted)) + geom_boxplot() +\n",
    "scale_y_log10(labels = scales::trans_format(\"log10\", scales::math_format(10^.x)),\n",
    "             breaks = c(10^-3,1,10^3)) + theme_bw()+\n",
    "theme(axis.text.x = element_blank(), axis.ticks.x = element_blank(),axis.title.x = element_blank(),legend.position=\"top\")+\n",
    "scale_color_manual(values=c(\"gray\",\"darkorange\"))+ylab(\"FPKM\")\n",
    "p2 <- ggplot(subset(snipre[snipre$type %in% keep, ], alpha >= 0), aes(type, alpha, color = secreted)) +\n",
    "geom_jitter(width=0.3, alpha=.3)+ stat_summary(fun.y = mean, geom = \"point\", color=\"red\", size=10, shape=95) +\n",
    "stat_summary(fun.y = mean, geom = \"point\", color=\"red\") +theme_bw()+\n",
    "scale_color_manual(values=c(\"grey\",\"darkorange\"))+theme(legend.position='none')+xlab(\"Protein class\")+\n",
    "scale_alpha_manual(values = c(.1,1,1,1,1,1))\n",
    "pdf(\"plots/alpha.pdf\", width=4,height =6 )\n",
    "grid.arrange(p1,p2, ncol=1, heights = c(1,3))\n",
    "dev.off()"
   ]
  },
  {
   "cell_type": "code",
   "execution_count": null,
   "metadata": {
    "Rmd_chunk_options": "constraintByType",
    "autoscroll": false,
    "collapsed": true
   },
   "outputs": [],
   "source": [
    "p1 <- ggplot(snipre[snipre$type %in% keep2, ], aes(type, f, color = secreted)) +\n",
    "geom_jitter(width=0.3, alpha=.3)+ stat_summary(fun.y = mean, geom = \"point\", color=\"red\", size=10, shape=95) +\n",
    "stat_summary(fun.y = mean, geom = \"point\", color=\"red\") +theme_bw()+\n",
    "scale_color_manual(values=c(\"grey\",\"darkorange\"))+theme(legend.position='none')+xlab(\"Protein class\")+ggtitle(\"MKTest\")+ylab(expression(atop(\"Proportion of mutants not under\",paste(\"strong purifying selection \", (italic(f))))))+theme(axis.title.x=element_blank())\n",
    "p2 <- ggplot(snipre[snipre$type %in% keep2, ], aes(type, Rest, color = secreted)) +\n",
    "geom_jitter(width=0.3, alpha=.3)+ stat_summary(fun.y = mean, geom = \"point\", color=\"red\", size=10, shape=95) +\n",
    "stat_summary(fun.y = mean, geom = \"point\", color=\"red\") +theme_bw()+\n",
    "scale_color_manual(values=c(\"grey\",\"darkorange\"))+theme(legend.position='none')+ggtitle(\"SnIPRE\")+ylab(\"Constraint effect\")+theme(axis.title.x=element_blank())\n",
    "#pdf(\"plots/constraint.pdf\",width=12,height=4)\n",
    "grid.arrange(p1,p2, nrow=1,bottom = textGrob(\"Protein type\"))\n",
    "#dev.off()"
   ]
  },
  {
   "cell_type": "code",
   "execution_count": null,
   "metadata": {
    "autoscroll": false,
    "collapsed": true
   },
   "outputs": [],
   "source": [
    "kruskalmc(Rest ~ type, data=droplevels(snipre[snipre$type %in% keep2, ]), cont= 'two-tailed' )\n",
    "\n",
    "kruskalmc(f ~ type, data=droplevels(snipre[snipre$type %in% keep2, ]), cont= 'two-tailed' )\n",
    "\n",
    "kruskalmc(alpha ~ type, data=droplevels(snipre[snipre$type %in% keep, ]), cont= 'two-tailed' )"
   ]
  },
  {
   "cell_type": "markdown",
   "metadata": {},
   "source": [
    "\n",
    "#### Does expression level modulate selection?\n",
    "Previously we found that more abundant venom proteins evolve faster (Aird et al 2015). Is this due to selection, or relaxed constraint?\n",
    "\n"
   ]
  },
  {
   "cell_type": "code",
   "execution_count": null,
   "metadata": {
    "Rmd_chunk_options": "fpkmSelection",
    "autoscroll": false,
    "collapsed": true
   },
   "outputs": [],
   "source": [
    "options(warn=-1)\n",
    "with(subset(snipre, secreted == \"yes\" & alpha >=0), cor.test(alpha, fpkm, method = \"s\"))\n",
    "with(subset(snipre, secreted == \"no\" & alpha >=0), cor.test(alpha, fpkm, method = \"s\"))\n",
    "with(subset(snipre, secreted == \"yes\" & type != \"SP\"), cor.test(f, fpkm, method = \"s\"))\n",
    "with(subset(snipre, secreted == \"no\" & type != \"SP\"), cor.test(f, fpkm, method = \"s\"))\n",
    "(fpkm_rest <- with(subset(snipre, secreted == \"yes\" & type != \"SP\"), cor.test(Rest, fpkm, method = \"s\")))\n",
    "\n",
    "myPalette = c(\"#eb478c\",\n",
    "\"#00d400\",\n",
    "\"#a23fc8\",\n",
    "\"#bc9c47\",\n",
    "\"#336fd1\",\n",
    "\"#d5553d\",\n",
    "\"#29e4fd\",\n",
    "\"#ff5400\",\n",
    "\"#56865a\",\n",
    "\"#ea0008\")\n",
    "ggplot(subset(snipre, secreted == \"yes\" & type != \"SP\"), aes(fpkm,Rest, color=type) )+ scale_x_log10()+geom_point()+geom_smooth(aes(group=1),color=\"lightgrey\",method=\"lm\",se=F)+ theme_bw()+scale_color_manual(values = myPalette, guide=guide_legend(title = \"Protein class\"))+ annotate(\"text\", x = 10, y = -.25, hjust = 1, label = paste(\"atop(r[s] == \", as.character(round(fpkm_rest$estimate,2)), \", p ==\",as.character(round(fpkm_rest$p.value,3)),\")\"), parse=T)+ theme(legend.key = element_blank()) + xlab(\"Average gene expression level (FPKM)\") + ylab(\"Selective constraint (SnIPRE)\")\n",
    "ggsave(\"plots/fpkm rest.pdf\", width= 5, height=5)"
   ]
  },
  {
   "cell_type": "markdown",
   "metadata": {},
   "source": [
    "\n",
    "As we expect, in general, highly expressed genes are under stabilizing selection -- they have fewer adaptive substitutions, and strong selective constraint. In the case of venom genes, though, highly expressed genes have lower constraint.\n",
    "\n",
    "#### Are _P. elegans_ and _P. mucrosquamatus_ expression levels correlated?\n"
   ]
  },
  {
   "cell_type": "code",
   "execution_count": null,
   "metadata": {
    "autoscroll": false,
    "collapsed": true
   },
   "outputs": [],
   "source": [
    "pele <- dbGetQuery(db, 'SELECT pele.gene, fpkm FROM pele\n",
    "JOIN pele_coverage\n",
    "ON pele_coverage.gene = pele.gene\n",
    "WHERE coverage > 5')\n",
    "pele <- merge(pele, snipre,by.x=1,by.y=0)[,c(\"fpkm.x\",\"fpkm.y\",\"type\",\"secreted\")]\n",
    "\n",
    "(speciesCor <- with(subset(pele, secreted == \"yes\"), cor.test(fpkm.x, fpkm.y, method=\"s\")))\n",
    "ggplot(subset(pele, secreted==\"yes\"),aes(fpkm.x, fpkm.y, color=type))+geom_point()+ scale_y_log10(labels  = fancy_scientific, limits=c(1,5*10^5))+ scale_x_log10(labels  = fancy_scientific,limits=c(1,5*10^5))+ stat_smooth(method=\"lm\",se=FALSE,color=\"grey\",aes(group=1 ))+ xlab(\"FPKM Sakishima habu (outgroup)\") + ylab(\"FPKM Taiwan habu\")+  theme_bw() + theme(legend.key = element_blank())+scale_color_manual(values = myPalette)+  annotate(\"text\", x = 100, y = 10^5, hjust = 1, label = paste(\"atop(r[s] ==\", round(speciesCor$estimate,2),\",\",paste(\"p ==\", fancy_scientific2(speciesCor$p.value),\")\")), parse = TRUE)\n",
    "ggsave(\"plots/correlation between habus.pdf\", width=5,height=4)"
   ]
  },
  {
   "cell_type": "markdown",
   "metadata": {},
   "source": [
    "\n",
    "### Coverage variation in venom genes\n",
    "We examine data from CNV-seq, which used Pm01 as the reference to which all other speciems were compared. It detects significant changes in coverage in roughly 1.7kb windows. We intersected these putative CNVs with gene models to determine the number of individuals with possible CNVs at a given gene.\n"
   ]
  },
  {
   "cell_type": "code",
   "execution_count": null,
   "metadata": {
    "autoscroll": false,
    "collapsed": true
   },
   "outputs": [],
   "source": [
    "snipre$cnv <- as.numeric(snipre$cnv)\n",
    "with(subset(snipre, secreted == \"yes\"), cor.test(cnv, alpha, method = \"s\"))\n",
    "with(subset(snipre, secreted == \"yes\"), cor.test(cnv, f, method = \"s\"))\n",
    "with(subset(snipre, secreted == \"yes\"), cor.test(cnv, Rest, method = \"s\"))\n",
    "with(subset(snipre, secreted == \"no\"), cor.test(cnv, Rest, method = \"s\"))\n",
    "ggplot(subset(snipre, secreted == \"yes\" & cnv >= 0), aes(type, cnv/20))+geom_boxplot(color=\"grey\", outlier.shape = NA)+geom_jitter() + ylab(\"Percent of individuals with detected\\ncopy number variants in genes\")+theme_bw()+xlab(\"Protein type\")+scale_y_continuous(labels = scales::percent)\n",
    "ggsave(\"plots/cnv.pdf\", width = 8, height = 4)"
   ]
  },
  {
   "cell_type": "markdown",
   "metadata": {},
   "source": [
    "\n",
    "#### Does copy number variation affect global results?\n"
   ]
  },
  {
   "cell_type": "code",
   "execution_count": null,
   "metadata": {
    "autoscroll": false,
    "collapsed": true
   },
   "outputs": [],
   "source": [
    "kruskal.test(Rest ~ secreted, data = subset(snipre, cnv == 0))\n",
    "ggplot(subset(snipre, cnv == 0), aes(secreted, Rest)) + geom_violin()+ stat_summary(fun.y = mean, geom = \"point\", color=\"red\", size=3) + theme_bw()\n",
    "kruskal.test(f ~ secreted, data = subset(snipre, cnv == 0))\n",
    "kruskal.test(alpha ~ secreted, data = subset(snipre, cnv == 0 & alpha >=0 ))\n",
    "ggplot(subset(snipre, cnv == 0 & alpha >=0), aes(secreted, alpha)) + geom_violin()+ stat_summary(fun.y = mean, geom = \"point\", color=\"red\", size=3) + theme_bw()"
   ]
  },
  {
   "cell_type": "markdown",
   "metadata": {},
   "source": [
    "\n",
    "Generally, no. If we exclude genes with any level of copy number variation, we still get the same result form SnIPRE for mutational constraint and from MKTest for alpha. However, the estimates for f are non-significant.\n"
   ]
  }
 ],
 "metadata": {
  "Rmd_header": {
   "author": "Sasha Mikheyev",
   "date": "12/10/2016",
   "output": {
    "html_document": {
     "css": "css/custom.css"
    }
   },
   "title": "Testing adaptive vs 'overkill' hypotheses of snake venom evolution"
  },
  "kernelspec": {
   "display_name": "R",
   "language": "R",
   "name": "ir"
  },
  "language_info": {
   "codemirror_mode": "r",
   "file_extension": ".r",
   "mimetype": "text/x-r-source",
   "name": "R",
   "pygments_lexer": "r"
  }
 },
 "nbformat": 4,
 "nbformat_minor": 0
}
